{
 "cells": [
  {
   "cell_type": "markdown",
   "metadata": {},
   "source": [
    "# Programdagen 15 Januari"
   ]
  },
  {
   "cell_type": "markdown",
   "metadata": {},
   "source": [
    "# Arbetsmaterial\n",
    "- [Programmering & Matte - grunderna och vidare][pull-prog] (Skapat av Kasper Davidsson)\n",
    "- [Programmering & Matte - maskininlärning / artificiell intelligens][pull-math]\n",
    "\n",
    "[pull-math]: https://jupyter.se/hub/user-redirect/git-pull?repo=https://github.com/consideratio/jupyter-se-math&subPath=gradient-descent/gradient-descent.ipynb\n",
    "[pull-prog]: https://jupyter.se/hub/user-redirect/git-pull?repo=https://github.com/temp-pv/prog\n",
    "\n",
    "# Utmaningar\n",
    "Kan du klara dessa utmaningar? Lägg resultat i en mapp du döper till _utmaningar_."
   ]
  },
  {
   "cell_type": "code",
   "execution_count": null,
   "metadata": {
    "collapsed": true
   },
   "outputs": [],
   "source": [
    "# kör denna cellen för att skapa mappen\n",
    "!echo Hello linux, I am currently in folder $(pwd)\n",
    "!mkdir ~/utmaningar"
   ]
  },
  {
   "cell_type": "markdown",
   "metadata": {},
   "source": [
    "### Tips för utmaningarna\n",
    "\n",
    "1. Du kontrollerar just nu en egen server. I [terminalen][terminal] kan installera python paket med _pip_, ladda hem filer med _wget_ eller använda _git_ exempelvis.\n",
    "2. Du kan importera kod från github genom en länk om du formatterar den rätt, kika på länkarna i arbetsmaterialet.\n",
    "3. Du kan köra enstaka terminalkommandon direkt från en notebook med ett utropstecken\n",
    "\n",
    "[terminal]: https://jupyter.se/user/redirect/terminals/1"
   ]
  },
  {
   "cell_type": "markdown",
   "metadata": {},
   "source": [
    "#### Presentationer\n",
    "Kika [från 0:00 till 4:33](https://www.youtube.com/watch?v=sXyFa_r1nxA) och gör en powerpointliknande micropresentation för en kompis om några tips och tricks för Jupyter du hittat på nätet.\n",
    "\n",
    "#### Git & GitHub\n",
    "Gör en _pull request_ på GitHub till [consideratio/jupyter-se-getting-started](https://github.com/consideRatio/jupyter-se-getting-started) där du lägger till ditt namn i _git-challenge.md_.\n",
    "\n",
    "#### Plotly\n",
    "Återskapa 3D-graf exemplet _Multiple 3D Surface Plots_ på [plotly](https://plot.ly/python/3d-surface-plots/).\n",
    "\n",
    "```python\n",
    "# Plotly details to avoid creating an account.\n",
    "import plotly.offline as py # use this instead of: import plotly.plotly as py\n",
    "py.init_notebook_mode(connected=True) # run once to initialize\n",
    "```\n",
    "\n",
    "#### Interaktiva funktioner\n",
    "Kika [från 1:20 till 5:07](https://www.youtube.com/watch?v=eWzY2nGfkXk&t=1m20s) och gör en funktion interaktiv som de gjorde i filmen.\n",
    "\n",
    "#### LaTeX\n",
    "Återskapa den tredimensionella värmeledningsekvationen med LaTeX i markdown.\n",
    "\n",
    "[![](https://wikimedia.org/api/rest_v1/media/math/render/svg/6544d3fe02c45c7f36beb824d68073274d7b60b3)](https://en.wikipedia.org/wiki/Heat_equation)\n",
    "\n",
    "#### Elektriska fältlinjer\n",
    "Importera källkod från [tomduck/electrostatics](https://github.com/tomduck/electrostatics) till jupyter.se och testa att generera en bild.\n",
    "\n",
    "#### Sympy\n",
    "Använd linuxkommandot wget för att tanka hem http://www.inp.nsk.su/~grozin/python/sympy.ipynb, lär dig vad symbolhantering innebär och hur Sympy kan bidra.\n",
    "\n",
    "#### Molekyler\n",
    "Använd öppen källkod från [rdkit/rdkit-tutorials](https://github.com/rdkit/rdkit-tutorials) för att skapa en bild av en sockermolekyl."
   ]
  },
  {
   "cell_type": "code",
   "execution_count": null,
   "metadata": {
    "collapsed": true
   },
   "outputs": [],
   "source": []
  }
 ],
 "metadata": {
  "kernelspec": {
   "display_name": "Python 3",
   "language": "python",
   "name": "python3"
  },
  "language_info": {
   "codemirror_mode": {
    "name": "ipython",
    "version": 3
   },
   "file_extension": ".py",
   "mimetype": "text/x-python",
   "name": "python",
   "nbconvert_exporter": "python",
   "pygments_lexer": "ipython3",
   "version": "3.6.1"
  }
 },
 "nbformat": 4,
 "nbformat_minor": 2
}
