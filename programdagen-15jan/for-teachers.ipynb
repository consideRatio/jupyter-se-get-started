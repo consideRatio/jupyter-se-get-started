{
 "cells": [
  {
   "cell_type": "markdown",
   "metadata": {
    "slideshow": {
     "slide_type": "slide"
    }
   },
   "source": [
    "# Intro\n",
    "Detta är en Jupyter Notebook! Det är en fil som kan visas via en webbläsare, men styra en dator bakom kulissen att köra kod. Du kan alltså programmera via webben! Datorn bakom kulissen kan vara din egen dator, men just nu har du fått en egen server i molnet att köra koden åt dig så du (eller elever) slipper installera något. Testa att köra kod genom att klicka på _kodcellen_ nedan och tryck antingen `Shift-Enter` eller på <button class='btn btn-default btn-xs'><i class=\"icon-step-forward fa fa-step-forward\"></i></button> knappen i verktygsraden ovan för att köra koden."
   ]
  },
  {
   "cell_type": "code",
   "execution_count": null,
   "metadata": {
    "slideshow": {
     "slide_type": "subslide"
    }
   },
   "outputs": [],
   "source": [
    "# TODO: Correct this faulty code...\n",
    "ageInSeconds = 20*365\n",
    "print(\"IT-gymnasiet är ungefär {} sekunder gammalt nu!\".format(ageInSeconds))"
   ]
  },
  {
   "cell_type": "markdown",
   "metadata": {
    "slideshow": {
     "slide_type": "subslide"
    }
   },
   "source": [
    "Det finns även vanliga celler, så kallad _markdownceller_, dessa möjliggör formattering av text, uttryck i html, uttryck i LaTeX för matematiksymboler med mera. Dubbelklicka på denna cell och studera hur jag skrev det nedanstående med LaTeX:\n",
    "\n",
    "$$P(E)={n \\choose k} p^k (1-p)^{n-k}$$\n",
    "\n",
    "För att sluta inspektera markdown-koden i cellen trycker du återigen antingen `Shift-Enter` eller på <button class='btn btn-default btn-xs'><i class=\"icon-step-forward fa fa-step-forward\"></i></button> knappen i verktygsraden ovan."
   ]
  },
  {
   "cell_type": "markdown",
   "metadata": {
    "slideshow": {
     "slide_type": "slide"
    }
   },
   "source": [
    "# Användningsområden"
   ]
  },
  {
   "cell_type": "markdown",
   "metadata": {
    "slideshow": {
     "slide_type": "subslide"
    }
   },
   "source": [
    "### Presentationer\n",
    "Du kan göra/använda presentationer av Jupyter anteckningsböcker, precis som powerpoints. Testa exempelvis att klicka på <button class='btn btn-default btn-xs'><i class=\"fa-bar-chart-o fa\"></i>Enter/Exit RISE Slideshow</button> knappen i menyraden ovan.\n",
    "\n",
    "> I presentationsläget klickar du mellanslag för att röra dig framåt, och shift+mellanslag för att röra dig bakåt. Du kan behöva trycka escape för att komma ut ur skriv-läge först dock, annars tolkas mellanslaget som ett mellanslag.\n",
    "\n",
    "> Hur presentationen ska visas har jag ställt in med ett verktygsfält som dyker upp om du väljer _View > Cell toolbar > Slideshow_."
   ]
  },
  {
   "cell_type": "markdown",
   "metadata": {
    "slideshow": {
     "slide_type": "subslide"
    }
   },
   "source": [
    "### Labbrapporter / Inlämningsuppgifter\n",
    "Elever kan skriva labbrapporter i Jupyter anteckningsböcker. Då kan de göra beräkningar, visualisera dem, och skriva teori med snygga matematiska uttryck: $\\sqrt{3x-1}+(1+x)^2$.\n",
    "\n",
    "När de är klara, kan du exempelvis be dem klicka _File > Download as > HTML (.html)_ och skicka in. Automatisk rättning och ännu smidigare inlämningssystem finns dessutom ([nbgrader](https://github.com/jupyter/nbgrader)), dock i skrivande stund inte på Jupyter.se."
   ]
  },
  {
   "cell_type": "markdown",
   "metadata": {
    "slideshow": {
     "slide_type": "subslide"
    }
   },
   "source": [
    "### Digitala elevinstruktioner\n",
    "Jupyter kan väva samman många världar, därför passar de sig bra för instruktioner. Vill du att eleverna ska se på en film, därefter skriva en text, programmera en snutt och därefter formulera sig med matematiska uttryck, interagera med en GeoGebra applet och slutligen svara på en fråga? Allt detta går med ovh i en enda Jupyter anteckningsbok."
   ]
  },
  {
   "cell_type": "markdown",
   "metadata": {
    "slideshow": {
     "slide_type": "subslide"
    }
   },
   "source": [
    "### Fri arbetsyta för eleverna\n",
    "Elever skulle kunna inspireras till egna projekt eller helt enkelt föra lektionsanteckningar eller liknande."
   ]
  },
  {
   "cell_type": "markdown",
   "metadata": {
    "slideshow": {
     "slide_type": "slide"
    }
   },
   "source": [
    "# Lär dig\n",
    "\n",
    "### Jupyter"
   ]
  },
  {
   "cell_type": "markdown",
   "metadata": {
    "hideCode": false,
    "hidePrompt": false,
    "slideshow": {
     "slide_type": "fragment"
    }
   },
   "source": [
    "|Jupyter Notebook Tutorial: Introduction, Setup, and Walkthrough|\n",
    "|:-|\n",
    "|[![](https://img.youtube.com/vi/HW29067qVWk/0.jpg)](https://www.youtube.com/watch?v=HW29067qVWk)|\n",
    "|*YouTube: Lär dig grunderna om Jupyter.*|"
   ]
  },
  {
   "cell_type": "markdown",
   "metadata": {
    "slideshow": {
     "slide_type": "subslide"
    }
   },
   "source": [
    "### Python\n",
    "Jag googlade på sökorden __jupyter__, __python__ och __course__, varpå jag fann denna [__introduktionskurs till python__](https://jupyter.se/hub/user-redirect/git-pull?repo=https://gitlab.erc.monash.edu.au/andrease/Python4Maths&subPath=Intro-to-Python/00.ipynb)\n",
    "\n",
    "> OBS: Elever kan smidigt förses med material genom en länk, precis som ovan. De får då en kopia, och förändringar de gör sparas på deras konton. Klickar du på länken en andra gång skrivs inget av dina ändringar över, men du får eventuellt en uppdatering på filer du inte ändrat."
   ]
  },
  {
   "cell_type": "markdown",
   "metadata": {
    "slideshow": {
     "slide_type": "subslide"
    }
   },
   "source": [
    "### Matematik\n",
    "Jag googlade på sökorden __jupyter__, __math__, och __course__, varpå jag fann denna [__kurs om numerisk beräkning__](https://jupyter.se/hub/user-redirect/git-pull?repo=https://github.com/mikkokotila/jupyter4kids&subPath=notebooks/numerical-computing-is-fun-1.ipynb)."
   ]
  },
  {
   "cell_type": "markdown",
   "metadata": {
    "slideshow": {
     "slide_type": "subslide"
    }
   },
   "source": [
    "Jag rekommenderar även varmt att nångång lära dig om biblioteket __Sympy__, det kan hjälper dig med symbolhantering och att rita ut grafer snabbt. Symbolhantering innefattar sådant som förenkla uttryck, hitta primitiva funktioner eller derivera algebraiskt. För att lära dig om sympy kan du köra kodcellen nedan för att ladda demonstrationsfil till din molnserver och därefter köra den med följande länk: [sympy.ipynb](sympy.ipynb)."
   ]
  },
  {
   "cell_type": "code",
   "execution_count": null,
   "metadata": {
    "scrolled": true,
    "slideshow": {
     "slide_type": "fragment"
    }
   },
   "outputs": [],
   "source": [
    "# NOTE: '!' means that you will run a terminal command on the server\n",
    "#       and wget is a Linux tool that downloads a file for you.\n",
    "!wget http://www.inp.nsk.su/~grozin/python/sympy.ipynb"
   ]
  },
  {
   "cell_type": "markdown",
   "metadata": {
    "slideshow": {
     "slide_type": "slide"
    }
   },
   "source": [
    "# Demonstrativt\n",
    "\n",
    "#### Maskinlärning / artificiell intelligens\n",
    "Jag har pluggat maskinlärning och artificiell intelligens, engagerad kring det gjorde för intresserade elever en introduktion till det i form av en inlämningsuppgift för att utvärdera Jupyters potential. Den blev uppskattad och elever har efterfrågat flera liknande.\n",
    "\n",
    "Här är [elevversionen](https://jupyter.se/hub/user-redirect/git-pull?repo=https://github.com/consideratio/jupyter-se-math&subPath=gradient-descent/gradient-descent.ipynb) med endel luckor i koden för dem att fylla i enligt instruktion och med tomma svarsfält där de kan svara på endel fritextsfrågor."
   ]
  },
  {
   "cell_type": "markdown",
   "metadata": {
    "slideshow": {
     "slide_type": "subslide"
    }
   },
   "source": [
    "#### Kemi\n",
    "Jag googlade lite igen, och hittade [en intressant guide om ett python-bibliotek som bland annat hjälper användaren att visualisera kemiska molekyler](https://jupyter.se/hub/user-redirect/git-pull?repo=https://github.com/rdkit/rdkit-tutorials&subPath=notebooks/001_ReadingMolecules1.ipynb)!"
   ]
  },
  {
   "cell_type": "markdown",
   "metadata": {
    "slideshow": {
     "slide_type": "fragment"
    }
   },
   "source": [
    "> OBS: Du behöver installera python biblioteket `rdkit` genom att köra koden nedan, det är inte förinstallerat på din molnserver."
   ]
  },
  {
   "cell_type": "code",
   "execution_count": null,
   "metadata": {
    "slideshow": {
     "slide_type": "-"
    }
   },
   "outputs": [],
   "source": [
    "# NOTE: '!' means that you will run a terminal command on the server.\n",
    "!conda install -y -c rdkit rdkit"
   ]
  },
  {
   "cell_type": "code",
   "execution_count": null,
   "metadata": {
    "slideshow": {
     "slide_type": "subslide"
    }
   },
   "outputs": [],
   "source": [
    "# A code example from tutorial mentioned above\n",
    "from rdkit import Chem\n",
    "from rdkit.Chem.Draw import IPythonConsole\n",
    "from rdkit.Chem import Draw\n",
    "\n",
    "display(Chem.MolFromSmiles('COc1ccc2c(c1)[nH]c(n2)[S@@](=O)Cc1ncc(c(c1C)OC)C'))"
   ]
  },
  {
   "cell_type": "markdown",
   "metadata": {
    "slideshow": {
     "slide_type": "slide"
    }
   },
   "source": [
    "# Om jupyter.se\n",
    "Jag (Erik Sundell, ITG-Uppsala), har skapat den på fritiden och den bygger huvudsakligen på öppen källkod. Jupyter.se är tänkt att fungera som ett \"proof of concept\", men den behöver serverfinansiering, utveckling och underhåll för att den ska fungera på stor skala inom hela ITG eller hela Academedia."
   ]
  },
  {
   "cell_type": "markdown",
   "metadata": {
    "slideshow": {
     "slide_type": "skip"
    }
   },
   "source": [
    "### Tekniskt\n",
    "[Projektet](https://github.com/consideRatio/z2jh-extended) bygger på [JupyterHub](https://github.com/jupyterhub/jupyterhub) och en [vidareutveckling](https://github.com/jupyterhub/zero-to-jupyterhub-k8s) av det för molnbaserad hosting vilket är lämpligt för system som ska kunna skalas upp till stor skala. JupyterHub startar en webbserver där användare kan [logga in](https://github.com/jupyterhub/oauthenticator) direkt till [Academedia](github.com/consideRatio/oauthenticator). Inloggade användare identifieras som lärare eller elever, varpå de får får en egen server de därefterhänvisas att kommunicera med.\n",
    "\n",
    "Användarnas egna server är egentligen endast i skrivande stund en halv processorkärna och 1GB samt 1GB bestående hårddiskuttrymme. De kan inte sabba servern hipp som happ eftersom de kör i en så kallad sandlåda, i form av att de befinner sig i en [docker](https://www.docker.com/)-container. Det finns flera av dessa att välja på, [den jag skapat](https://github.com/consideRatio/z2jh-extended/tree/master/images/singleuser) bygger på erbjuder enbart vidare på en mall som endast erbjuder Python som programmeringsspråk, men flera språk kan erbjudas - Jupyter är nämligen inte bundet till Python.\n",
    "\n",
    "Servrarna bakom kulisserna finns på googles moln. Jag hanterar mjukvaran med [kubernetes](https://kubernetes.io/) och [helm](https://github.com/kubernetes/helm) samt google clouds CLI eller [google clouds webb-UI](https://console.cloud.google.com). Just nu ska jag exempelvis manuellt skala upp den tillgängliga hårdvaran inför uppskattad belastning under konferensen till att hantera iallafall 20 användare. Det går att ställa in regler för att automatisera detta, men det är en av många saker jag inte hunnit styra upp eftersom detta är ett fritidsprojekt i dagsläget.\n",
    "\n",
    "```bash\n",
    "$ kubectl get nodes\n",
    "NAME                                        STATUS    ROLES     AGE       VERSION\n",
    "gke-jupyter-se-default-pool-2f51798a-vk4m   Ready     <none>    6h        v1.8.4-gke.1\n",
    "\n",
    "$ gcloud container clusters resize jupyter-se --size 3\n",
    "Pool [default-pool] for [jupyter-se] will be resized to 3.\n",
    "\n",
    "Do you want to continue (Y/n)?  y\n",
    "\n",
    "Resizing jupyter-se...done.  \n",
    "Updated [https://container.googleapis.com/v1/projects/jupyter-se/zones/europe-west3-c/clusters/jupyter-se].\n",
    "\n",
    "$ kubectl get nodes\n",
    "NAME                                        STATUS    ROLES     AGE       VERSION\n",
    "gke-jupyter-se-default-pool-2f51798a-4gl3   Ready     <none>    5m        v1.8.4-gke.1\n",
    "gke-jupyter-se-default-pool-2f51798a-cgq3   Ready     <none>    5m        v1.8.4-gke.1\n",
    "gke-jupyter-se-default-pool-2f51798a-vk4m   Ready     <none>    6h        v1.8.4-gke.1\n",
    "```"
   ]
  },
  {
   "cell_type": "code",
   "execution_count": null,
   "metadata": {},
   "outputs": [],
   "source": []
  }
 ],
 "metadata": {
  "kernelspec": {
   "display_name": "Python 3",
   "language": "python",
   "name": "python3"
  },
  "language_info": {
   "codemirror_mode": {
    "name": "ipython",
    "version": 3
   },
   "file_extension": ".py",
   "mimetype": "text/x-python",
   "name": "python",
   "nbconvert_exporter": "python",
   "pygments_lexer": "ipython3",
   "version": "3.6.2"
  }
 },
 "nbformat": 4,
 "nbformat_minor": 2
}
