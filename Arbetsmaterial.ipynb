{
 "cells": [
  {
   "cell_type": "markdown",
   "metadata": {},
   "source": [
    "# Programmering\n",
    "- [Programmering - grunderna och vidare][pull-prog] (Skapat av Kasper Davidsson)\n",
    "\n",
    "[pull-prog]: https://jupyter.se/hub/user-redirect/git-pull?repo=https://github.com/temp-pv/prog"
   ]
  },
  {
   "cell_type": "markdown",
   "metadata": {},
   "source": [
    "# Matematik\n",
    "- [Matte 3][pull-math]\n",
    "    - [maskininlärning / artificiell intelligens][pull-math-ml]\n",
    "\n",
    "[pull-math]: https://jupyter.se/hub/user-redirect/git-pull?repo=https://github.com/consideratio/jupyter-se-math\n",
    "[pull-math-ml]: https://jupyter.se/hub/user-redirect/git-pull?repo=https://github.com/consideratio/jupyter-se-math&subPath=gradient-descent/gradient-descent.ipynb"
   ]
  },
  {
   "cell_type": "markdown",
   "metadata": {},
   "source": [
    "# Fysik\n",
    "- [Fysik 1a][pull-physics]\n",
    "    - [Elektriska kretsar][pull-physics-circuits]\n",
    "\n",
    "[pull-physics]: https://jupyter.se/hub/user-redirect/git-pull?repo=https://github.com/consideratio/jupyter-se-physics\n",
    "[pull-physics-circuits]: https://jupyter.se/hub/user-redirect/git-pull?repo=https://github.com/consideratio/jupyter-se-physics&subPath=labbar/elektriska-kretsar.ipynb"
   ]
  },
  {
   "cell_type": "markdown",
   "metadata": {},
   "source": [
    "# Övrigt\n",
    "- [Övrigt - Lämpligt för öppet hus][pull-misc]\n",
    "\n",
    "[pull-misc]: https://jupyter.se/hub/user-redirect/git-pull?repo=https://github.com/consideratio/jupyter-se-misc"
   ]
  }
 ],
 "metadata": {
  "kernelspec": {
   "display_name": "Python 3",
   "language": "python",
   "name": "python3"
  },
  "language_info": {
   "codemirror_mode": {
    "name": "ipython",
    "version": 3
   },
   "file_extension": ".py",
   "mimetype": "text/x-python",
   "name": "python",
   "nbconvert_exporter": "python",
   "pygments_lexer": "ipython3",
   "version": "3.6.3"
  }
 },
 "nbformat": 4,
 "nbformat_minor": 2
}
