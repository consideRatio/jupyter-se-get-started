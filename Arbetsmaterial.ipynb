{
 "cells": [
  {
   "cell_type": "markdown",
   "metadata": {},
   "source": [
    "# Programmering\n",
    "- [Programmering - grunderna och vidare][pull-prog] (Skapat av Kasper Davidsson)\n",
    "\n",
    "[pull-prog]: https://jupyter.se/hub/user-redirect/git-pull?repo=https://github.com/temp-pv/prog"
   ]
  },
  {
   "cell_type": "markdown",
   "metadata": {},
   "source": [
    "# Matematik\n",
    "- [Matte 3+ - maskininlärning / artificiell intelligens][pull-math]\n",
    "\n",
    "[pull-math]: https://jupyter.se/hub/user-redirect/git-pull?repo=https://github.com/consideratio/jupyter-se-math&subPath=gradient-descent/gradient-descent.ipynb"
   ]
  },
  {
   "cell_type": "markdown",
   "metadata": {},
   "source": [
    "# Fysik\n",
    "- [Fysik 1a - provosoriskt lektionsmaterial][pull-physics]\n",
    "\n",
    "[pull-physics]: https://jupyter.se/hub/user-redirect/git-pull?repo=https://github.com/consideratio/jupyter-se-physics"
   ]
  },
  {
   "cell_type": "code",
   "execution_count": null,
   "metadata": {
    "collapsed": true
   },
   "outputs": [],
   "source": []
  }
 ],
 "metadata": {
  "kernelspec": {
   "display_name": "Python 3",
   "language": "python",
   "name": "python3"
  },
  "language_info": {
   "codemirror_mode": {
    "name": "ipython",
    "version": 3
   },
   "file_extension": ".py",
   "mimetype": "text/x-python",
   "name": "python",
   "nbconvert_exporter": "python",
   "pygments_lexer": "ipython3",
   "version": "3.6.1"
  }
 },
 "nbformat": 4,
 "nbformat_minor": 2
}
